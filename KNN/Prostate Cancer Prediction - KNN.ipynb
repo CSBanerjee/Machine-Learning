{
 "cells": [
  {
   "cell_type": "markdown",
   "metadata": {},
   "source": [
    "## Prostate Cancer Prediction - KNN"
   ]
  },
  {
   "cell_type": "code",
   "execution_count": 515,
   "metadata": {},
   "outputs": [],
   "source": [
    "#import necessary packages\n",
    "import numpy as np\n",
    "import pandas as pd\n",
    "import matplotlib.pyplot as plt\n",
    "import seaborn as sns"
   ]
  },
  {
   "cell_type": "code",
   "execution_count": 516,
   "metadata": {},
   "outputs": [],
   "source": [
    "df = pd.read_csv(r'Prostate_Cancer.csv')"
   ]
  },
  {
   "cell_type": "code",
   "execution_count": 517,
   "metadata": {},
   "outputs": [
    {
     "data": {
      "text/plain": [
       "(100, 10)"
      ]
     },
     "execution_count": 517,
     "metadata": {},
     "output_type": "execute_result"
    }
   ],
   "source": [
    "df.shape"
   ]
  },
  {
   "cell_type": "code",
   "execution_count": 518,
   "metadata": {},
   "outputs": [
    {
     "data": {
      "text/html": [
       "<div>\n",
       "<style scoped>\n",
       "    .dataframe tbody tr th:only-of-type {\n",
       "        vertical-align: middle;\n",
       "    }\n",
       "\n",
       "    .dataframe tbody tr th {\n",
       "        vertical-align: top;\n",
       "    }\n",
       "\n",
       "    .dataframe thead th {\n",
       "        text-align: right;\n",
       "    }\n",
       "</style>\n",
       "<table border=\"1\" class=\"dataframe\">\n",
       "  <thead>\n",
       "    <tr style=\"text-align: right;\">\n",
       "      <th></th>\n",
       "      <th>id</th>\n",
       "      <th>diagnosis_result</th>\n",
       "      <th>radius</th>\n",
       "      <th>texture</th>\n",
       "      <th>perimeter</th>\n",
       "      <th>area</th>\n",
       "      <th>smoothness</th>\n",
       "      <th>compactness</th>\n",
       "      <th>symmetry</th>\n",
       "      <th>fractal_dimension</th>\n",
       "    </tr>\n",
       "  </thead>\n",
       "  <tbody>\n",
       "    <tr>\n",
       "      <th>0</th>\n",
       "      <td>1</td>\n",
       "      <td>M</td>\n",
       "      <td>23</td>\n",
       "      <td>12</td>\n",
       "      <td>151</td>\n",
       "      <td>954</td>\n",
       "      <td>0.143</td>\n",
       "      <td>0.278</td>\n",
       "      <td>0.242</td>\n",
       "      <td>0.079</td>\n",
       "    </tr>\n",
       "    <tr>\n",
       "      <th>1</th>\n",
       "      <td>2</td>\n",
       "      <td>B</td>\n",
       "      <td>9</td>\n",
       "      <td>13</td>\n",
       "      <td>133</td>\n",
       "      <td>1326</td>\n",
       "      <td>0.143</td>\n",
       "      <td>0.079</td>\n",
       "      <td>0.181</td>\n",
       "      <td>0.057</td>\n",
       "    </tr>\n",
       "    <tr>\n",
       "      <th>2</th>\n",
       "      <td>3</td>\n",
       "      <td>M</td>\n",
       "      <td>21</td>\n",
       "      <td>27</td>\n",
       "      <td>130</td>\n",
       "      <td>1203</td>\n",
       "      <td>0.125</td>\n",
       "      <td>0.160</td>\n",
       "      <td>0.207</td>\n",
       "      <td>0.060</td>\n",
       "    </tr>\n",
       "    <tr>\n",
       "      <th>3</th>\n",
       "      <td>4</td>\n",
       "      <td>M</td>\n",
       "      <td>14</td>\n",
       "      <td>16</td>\n",
       "      <td>78</td>\n",
       "      <td>386</td>\n",
       "      <td>0.070</td>\n",
       "      <td>0.284</td>\n",
       "      <td>0.260</td>\n",
       "      <td>0.097</td>\n",
       "    </tr>\n",
       "    <tr>\n",
       "      <th>4</th>\n",
       "      <td>5</td>\n",
       "      <td>M</td>\n",
       "      <td>9</td>\n",
       "      <td>19</td>\n",
       "      <td>135</td>\n",
       "      <td>1297</td>\n",
       "      <td>0.141</td>\n",
       "      <td>0.133</td>\n",
       "      <td>0.181</td>\n",
       "      <td>0.059</td>\n",
       "    </tr>\n",
       "  </tbody>\n",
       "</table>\n",
       "</div>"
      ],
      "text/plain": [
       "   id diagnosis_result  radius  texture  perimeter  area  smoothness  \\\n",
       "0   1                M      23       12        151   954       0.143   \n",
       "1   2                B       9       13        133  1326       0.143   \n",
       "2   3                M      21       27        130  1203       0.125   \n",
       "3   4                M      14       16         78   386       0.070   \n",
       "4   5                M       9       19        135  1297       0.141   \n",
       "\n",
       "   compactness  symmetry  fractal_dimension  \n",
       "0        0.278     0.242              0.079  \n",
       "1        0.079     0.181              0.057  \n",
       "2        0.160     0.207              0.060  \n",
       "3        0.284     0.260              0.097  \n",
       "4        0.133     0.181              0.059  "
      ]
     },
     "execution_count": 518,
     "metadata": {},
     "output_type": "execute_result"
    }
   ],
   "source": [
    "df.head()"
   ]
  },
  {
   "cell_type": "markdown",
   "metadata": {},
   "source": [
    "diagnosis_result is the final output. Let us convert is as M=1 and B=0"
   ]
  },
  {
   "cell_type": "code",
   "execution_count": 519,
   "metadata": {},
   "outputs": [],
   "source": [
    "df['diagnosis_result']=df['diagnosis_result'].apply(lambda x:1 if x=='M' else 0)"
   ]
  },
  {
   "cell_type": "code",
   "execution_count": 520,
   "metadata": {},
   "outputs": [
    {
     "data": {
      "text/html": [
       "<div>\n",
       "<style scoped>\n",
       "    .dataframe tbody tr th:only-of-type {\n",
       "        vertical-align: middle;\n",
       "    }\n",
       "\n",
       "    .dataframe tbody tr th {\n",
       "        vertical-align: top;\n",
       "    }\n",
       "\n",
       "    .dataframe thead th {\n",
       "        text-align: right;\n",
       "    }\n",
       "</style>\n",
       "<table border=\"1\" class=\"dataframe\">\n",
       "  <thead>\n",
       "    <tr style=\"text-align: right;\">\n",
       "      <th></th>\n",
       "      <th>id</th>\n",
       "      <th>diagnosis_result</th>\n",
       "      <th>radius</th>\n",
       "      <th>texture</th>\n",
       "      <th>perimeter</th>\n",
       "      <th>area</th>\n",
       "      <th>smoothness</th>\n",
       "      <th>compactness</th>\n",
       "      <th>symmetry</th>\n",
       "      <th>fractal_dimension</th>\n",
       "    </tr>\n",
       "  </thead>\n",
       "  <tbody>\n",
       "    <tr>\n",
       "      <th>0</th>\n",
       "      <td>1</td>\n",
       "      <td>1</td>\n",
       "      <td>23</td>\n",
       "      <td>12</td>\n",
       "      <td>151</td>\n",
       "      <td>954</td>\n",
       "      <td>0.143</td>\n",
       "      <td>0.278</td>\n",
       "      <td>0.242</td>\n",
       "      <td>0.079</td>\n",
       "    </tr>\n",
       "    <tr>\n",
       "      <th>1</th>\n",
       "      <td>2</td>\n",
       "      <td>0</td>\n",
       "      <td>9</td>\n",
       "      <td>13</td>\n",
       "      <td>133</td>\n",
       "      <td>1326</td>\n",
       "      <td>0.143</td>\n",
       "      <td>0.079</td>\n",
       "      <td>0.181</td>\n",
       "      <td>0.057</td>\n",
       "    </tr>\n",
       "    <tr>\n",
       "      <th>2</th>\n",
       "      <td>3</td>\n",
       "      <td>1</td>\n",
       "      <td>21</td>\n",
       "      <td>27</td>\n",
       "      <td>130</td>\n",
       "      <td>1203</td>\n",
       "      <td>0.125</td>\n",
       "      <td>0.160</td>\n",
       "      <td>0.207</td>\n",
       "      <td>0.060</td>\n",
       "    </tr>\n",
       "    <tr>\n",
       "      <th>3</th>\n",
       "      <td>4</td>\n",
       "      <td>1</td>\n",
       "      <td>14</td>\n",
       "      <td>16</td>\n",
       "      <td>78</td>\n",
       "      <td>386</td>\n",
       "      <td>0.070</td>\n",
       "      <td>0.284</td>\n",
       "      <td>0.260</td>\n",
       "      <td>0.097</td>\n",
       "    </tr>\n",
       "    <tr>\n",
       "      <th>4</th>\n",
       "      <td>5</td>\n",
       "      <td>1</td>\n",
       "      <td>9</td>\n",
       "      <td>19</td>\n",
       "      <td>135</td>\n",
       "      <td>1297</td>\n",
       "      <td>0.141</td>\n",
       "      <td>0.133</td>\n",
       "      <td>0.181</td>\n",
       "      <td>0.059</td>\n",
       "    </tr>\n",
       "  </tbody>\n",
       "</table>\n",
       "</div>"
      ],
      "text/plain": [
       "   id  diagnosis_result  radius  texture  perimeter  area  smoothness  \\\n",
       "0   1                 1      23       12        151   954       0.143   \n",
       "1   2                 0       9       13        133  1326       0.143   \n",
       "2   3                 1      21       27        130  1203       0.125   \n",
       "3   4                 1      14       16         78   386       0.070   \n",
       "4   5                 1       9       19        135  1297       0.141   \n",
       "\n",
       "   compactness  symmetry  fractal_dimension  \n",
       "0        0.278     0.242              0.079  \n",
       "1        0.079     0.181              0.057  \n",
       "2        0.160     0.207              0.060  \n",
       "3        0.284     0.260              0.097  \n",
       "4        0.133     0.181              0.059  "
      ]
     },
     "execution_count": 520,
     "metadata": {},
     "output_type": "execute_result"
    }
   ],
   "source": [
    "df.head()"
   ]
  },
  {
   "cell_type": "code",
   "execution_count": 521,
   "metadata": {},
   "outputs": [
    {
     "data": {
      "text/html": [
       "<div>\n",
       "<style scoped>\n",
       "    .dataframe tbody tr th:only-of-type {\n",
       "        vertical-align: middle;\n",
       "    }\n",
       "\n",
       "    .dataframe tbody tr th {\n",
       "        vertical-align: top;\n",
       "    }\n",
       "\n",
       "    .dataframe thead th {\n",
       "        text-align: right;\n",
       "    }\n",
       "</style>\n",
       "<table border=\"1\" class=\"dataframe\">\n",
       "  <thead>\n",
       "    <tr style=\"text-align: right;\">\n",
       "      <th></th>\n",
       "      <th>count</th>\n",
       "      <th>mean</th>\n",
       "      <th>std</th>\n",
       "      <th>min</th>\n",
       "      <th>25%</th>\n",
       "      <th>50%</th>\n",
       "      <th>75%</th>\n",
       "      <th>max</th>\n",
       "    </tr>\n",
       "  </thead>\n",
       "  <tbody>\n",
       "    <tr>\n",
       "      <th>id</th>\n",
       "      <td>100.0</td>\n",
       "      <td>50.50000</td>\n",
       "      <td>29.011492</td>\n",
       "      <td>1.000</td>\n",
       "      <td>25.7500</td>\n",
       "      <td>50.5000</td>\n",
       "      <td>75.250</td>\n",
       "      <td>100.000</td>\n",
       "    </tr>\n",
       "    <tr>\n",
       "      <th>diagnosis_result</th>\n",
       "      <td>100.0</td>\n",
       "      <td>0.62000</td>\n",
       "      <td>0.487832</td>\n",
       "      <td>0.000</td>\n",
       "      <td>0.0000</td>\n",
       "      <td>1.0000</td>\n",
       "      <td>1.000</td>\n",
       "      <td>1.000</td>\n",
       "    </tr>\n",
       "    <tr>\n",
       "      <th>radius</th>\n",
       "      <td>100.0</td>\n",
       "      <td>16.85000</td>\n",
       "      <td>4.879094</td>\n",
       "      <td>9.000</td>\n",
       "      <td>12.0000</td>\n",
       "      <td>17.0000</td>\n",
       "      <td>21.000</td>\n",
       "      <td>25.000</td>\n",
       "    </tr>\n",
       "    <tr>\n",
       "      <th>texture</th>\n",
       "      <td>100.0</td>\n",
       "      <td>18.23000</td>\n",
       "      <td>5.192954</td>\n",
       "      <td>11.000</td>\n",
       "      <td>14.0000</td>\n",
       "      <td>17.5000</td>\n",
       "      <td>22.250</td>\n",
       "      <td>27.000</td>\n",
       "    </tr>\n",
       "    <tr>\n",
       "      <th>perimeter</th>\n",
       "      <td>100.0</td>\n",
       "      <td>96.78000</td>\n",
       "      <td>23.676089</td>\n",
       "      <td>52.000</td>\n",
       "      <td>82.5000</td>\n",
       "      <td>94.0000</td>\n",
       "      <td>114.250</td>\n",
       "      <td>172.000</td>\n",
       "    </tr>\n",
       "    <tr>\n",
       "      <th>area</th>\n",
       "      <td>100.0</td>\n",
       "      <td>702.88000</td>\n",
       "      <td>319.710895</td>\n",
       "      <td>202.000</td>\n",
       "      <td>476.7500</td>\n",
       "      <td>644.0000</td>\n",
       "      <td>917.000</td>\n",
       "      <td>1878.000</td>\n",
       "    </tr>\n",
       "    <tr>\n",
       "      <th>smoothness</th>\n",
       "      <td>100.0</td>\n",
       "      <td>0.10273</td>\n",
       "      <td>0.014642</td>\n",
       "      <td>0.070</td>\n",
       "      <td>0.0935</td>\n",
       "      <td>0.1020</td>\n",
       "      <td>0.112</td>\n",
       "      <td>0.143</td>\n",
       "    </tr>\n",
       "    <tr>\n",
       "      <th>compactness</th>\n",
       "      <td>100.0</td>\n",
       "      <td>0.12670</td>\n",
       "      <td>0.061144</td>\n",
       "      <td>0.038</td>\n",
       "      <td>0.0805</td>\n",
       "      <td>0.1185</td>\n",
       "      <td>0.157</td>\n",
       "      <td>0.345</td>\n",
       "    </tr>\n",
       "    <tr>\n",
       "      <th>symmetry</th>\n",
       "      <td>100.0</td>\n",
       "      <td>0.19317</td>\n",
       "      <td>0.030785</td>\n",
       "      <td>0.135</td>\n",
       "      <td>0.1720</td>\n",
       "      <td>0.1900</td>\n",
       "      <td>0.209</td>\n",
       "      <td>0.304</td>\n",
       "    </tr>\n",
       "    <tr>\n",
       "      <th>fractal_dimension</th>\n",
       "      <td>100.0</td>\n",
       "      <td>0.06469</td>\n",
       "      <td>0.008151</td>\n",
       "      <td>0.053</td>\n",
       "      <td>0.0590</td>\n",
       "      <td>0.0630</td>\n",
       "      <td>0.069</td>\n",
       "      <td>0.097</td>\n",
       "    </tr>\n",
       "  </tbody>\n",
       "</table>\n",
       "</div>"
      ],
      "text/plain": [
       "                   count       mean         std      min       25%       50%  \\\n",
       "id                 100.0   50.50000   29.011492    1.000   25.7500   50.5000   \n",
       "diagnosis_result   100.0    0.62000    0.487832    0.000    0.0000    1.0000   \n",
       "radius             100.0   16.85000    4.879094    9.000   12.0000   17.0000   \n",
       "texture            100.0   18.23000    5.192954   11.000   14.0000   17.5000   \n",
       "perimeter          100.0   96.78000   23.676089   52.000   82.5000   94.0000   \n",
       "area               100.0  702.88000  319.710895  202.000  476.7500  644.0000   \n",
       "smoothness         100.0    0.10273    0.014642    0.070    0.0935    0.1020   \n",
       "compactness        100.0    0.12670    0.061144    0.038    0.0805    0.1185   \n",
       "symmetry           100.0    0.19317    0.030785    0.135    0.1720    0.1900   \n",
       "fractal_dimension  100.0    0.06469    0.008151    0.053    0.0590    0.0630   \n",
       "\n",
       "                       75%       max  \n",
       "id                  75.250   100.000  \n",
       "diagnosis_result     1.000     1.000  \n",
       "radius              21.000    25.000  \n",
       "texture             22.250    27.000  \n",
       "perimeter          114.250   172.000  \n",
       "area               917.000  1878.000  \n",
       "smoothness           0.112     0.143  \n",
       "compactness          0.157     0.345  \n",
       "symmetry             0.209     0.304  \n",
       "fractal_dimension    0.069     0.097  "
      ]
     },
     "execution_count": 521,
     "metadata": {},
     "output_type": "execute_result"
    }
   ],
   "source": [
    "df.describe().T"
   ]
  },
  {
   "cell_type": "code",
   "execution_count": 522,
   "metadata": {},
   "outputs": [
    {
     "data": {
      "text/plain": [
       "<matplotlib.axes._subplots.AxesSubplot at 0x1b13478cdd8>"
      ]
     },
     "execution_count": 522,
     "metadata": {},
     "output_type": "execute_result"
    },
    {
     "data": {
      "image/png": "[encoded data removed]",
      "text/plain": [
       "<Figure size 1440x720 with 8 Axes>"
      ]
     },
     "metadata": {
      "needs_background": "light"
     },
     "output_type": "display_data"
    }
   ],
   "source": [
    "plt.figure(figsize=(20,10))\n",
    "plt.subplot(2,4,1)\n",
    "sns.boxplot(y='radius',data = df)\n",
    "plt.subplot(2,4,2)\n",
    "sns.boxplot(y='texture',data = df)\n",
    "plt.subplot(2,4,3)\n",
    "sns.boxplot(y='perimeter',data = df)\n",
    "plt.subplot(2,4,4)\n",
    "sns.boxplot(y='area',data = df)\n",
    "plt.subplot(2,4,5)\n",
    "sns.boxplot(y='smoothness',data = df)\n",
    "plt.subplot(2,4,6)\n",
    "sns.boxplot(y='compactness',data = df)\n",
    "plt.subplot(2,4,7)\n",
    "sns.boxplot(y='symmetry',data = df)\n",
    "plt.subplot(2,4,8)\n",
    "sns.boxplot(y='fractal_dimension',data = df)"
   ]
  },
  {
   "cell_type": "markdown",
   "metadata": {},
   "source": [
    "we can see area has a very high outier present. Let us handle the outlier in the dataset"
   ]
  },
  {
   "cell_type": "code",
   "execution_count": 523,
   "metadata": {},
   "outputs": [
    {
     "name": "stdout",
     "output_type": "stream",
     "text": [
      "id                    49.5000\n",
      "diagnosis_result       1.0000\n",
      "radius                 9.0000\n",
      "texture                8.2500\n",
      "perimeter             31.7500\n",
      "area                 440.2500\n",
      "smoothness             0.0185\n",
      "compactness            0.0765\n",
      "symmetry               0.0370\n",
      "fractal_dimension      0.0100\n",
      "dtype: float64\n"
     ]
    }
   ],
   "source": [
    "Q1 = df.quantile(0.25)\n",
    "Q3 = df.quantile(0.75)\n",
    "IQR = Q3 - Q1\n",
    "print(IQR)"
   ]
  },
  {
   "cell_type": "code",
   "execution_count": 524,
   "metadata": {},
   "outputs": [
    {
     "data": {
      "text/plain": [
       "(91, 10)"
      ]
     },
     "execution_count": 524,
     "metadata": {},
     "output_type": "execute_result"
    }
   ],
   "source": [
    "df = df[~((df < (Q1 - 1.5 * IQR)) |(df > (Q3 + 1.5 * IQR))).any(axis=1)]\n",
    "df.shape"
   ]
  },
  {
   "cell_type": "code",
   "execution_count": 525,
   "metadata": {},
   "outputs": [
    {
     "data": {
      "text/plain": [
       "<matplotlib.axes._subplots.AxesSubplot at 0x1b134966630>"
      ]
     },
     "execution_count": 525,
     "metadata": {},
     "output_type": "execute_result"
    },
    {
     "data": {
      "image/png": "[encoded data removed]",
      "text/plain": [
       "<Figure size 1440x720 with 8 Axes>"
      ]
     },
     "metadata": {
      "needs_background": "light"
     },
     "output_type": "display_data"
    }
   ],
   "source": [
    "plt.figure(figsize=(20,10))\n",
    "plt.subplot(2,4,1)\n",
    "sns.boxplot(y='radius',data = df)\n",
    "plt.subplot(2,4,2)\n",
    "sns.boxplot(y='texture',data = df)\n",
    "plt.subplot(2,4,3)\n",
    "sns.boxplot(y='perimeter',data = df)\n",
    "plt.subplot(2,4,4)\n",
    "sns.boxplot(y='area',data = df)\n",
    "plt.subplot(2,4,5)\n",
    "sns.boxplot(y='smoothness',data = df)\n",
    "plt.subplot(2,4,6)\n",
    "sns.boxplot(y='compactness',data = df)\n",
    "plt.subplot(2,4,7)\n",
    "sns.boxplot(y='symmetry',data = df)\n",
    "plt.subplot(2,4,8)\n",
    "sns.boxplot(y='fractal_dimension',data = df)"
   ]
  },
  {
   "cell_type": "code",
   "execution_count": 526,
   "metadata": {},
   "outputs": [
    {
     "data": {
      "text/html": [
       "<div>\n",
       "<style scoped>\n",
       "    .dataframe tbody tr th:only-of-type {\n",
       "        vertical-align: middle;\n",
       "    }\n",
       "\n",
       "    .dataframe tbody tr th {\n",
       "        vertical-align: top;\n",
       "    }\n",
       "\n",
       "    .dataframe thead th {\n",
       "        text-align: right;\n",
       "    }\n",
       "</style>\n",
       "<table border=\"1\" class=\"dataframe\">\n",
       "  <thead>\n",
       "    <tr style=\"text-align: right;\">\n",
       "      <th></th>\n",
       "      <th>count</th>\n",
       "      <th>mean</th>\n",
       "      <th>std</th>\n",
       "      <th>min</th>\n",
       "      <th>25%</th>\n",
       "      <th>50%</th>\n",
       "      <th>75%</th>\n",
       "      <th>max</th>\n",
       "    </tr>\n",
       "  </thead>\n",
       "  <tbody>\n",
       "    <tr>\n",
       "      <th>id</th>\n",
       "      <td>91.0</td>\n",
       "      <td>51.835165</td>\n",
       "      <td>28.104276</td>\n",
       "      <td>3.000</td>\n",
       "      <td>28.5000</td>\n",
       "      <td>51.000</td>\n",
       "      <td>75.5000</td>\n",
       "      <td>100.000</td>\n",
       "    </tr>\n",
       "    <tr>\n",
       "      <th>diagnosis_result</th>\n",
       "      <td>91.0</td>\n",
       "      <td>0.615385</td>\n",
       "      <td>0.489200</td>\n",
       "      <td>0.000</td>\n",
       "      <td>0.0000</td>\n",
       "      <td>1.000</td>\n",
       "      <td>1.0000</td>\n",
       "      <td>1.000</td>\n",
       "    </tr>\n",
       "    <tr>\n",
       "      <th>radius</th>\n",
       "      <td>91.0</td>\n",
       "      <td>17.153846</td>\n",
       "      <td>4.786377</td>\n",
       "      <td>9.000</td>\n",
       "      <td>12.0000</td>\n",
       "      <td>18.000</td>\n",
       "      <td>21.0000</td>\n",
       "      <td>25.000</td>\n",
       "    </tr>\n",
       "    <tr>\n",
       "      <th>texture</th>\n",
       "      <td>91.0</td>\n",
       "      <td>18.230769</td>\n",
       "      <td>5.217656</td>\n",
       "      <td>11.000</td>\n",
       "      <td>14.0000</td>\n",
       "      <td>17.000</td>\n",
       "      <td>22.5000</td>\n",
       "      <td>27.000</td>\n",
       "    </tr>\n",
       "    <tr>\n",
       "      <th>perimeter</th>\n",
       "      <td>91.0</td>\n",
       "      <td>94.780220</td>\n",
       "      <td>20.648273</td>\n",
       "      <td>52.000</td>\n",
       "      <td>83.0000</td>\n",
       "      <td>94.000</td>\n",
       "      <td>109.0000</td>\n",
       "      <td>137.000</td>\n",
       "    </tr>\n",
       "    <tr>\n",
       "      <th>area</th>\n",
       "      <td>91.0</td>\n",
       "      <td>678.384615</td>\n",
       "      <td>280.429186</td>\n",
       "      <td>202.000</td>\n",
       "      <td>488.0000</td>\n",
       "      <td>633.000</td>\n",
       "      <td>844.0000</td>\n",
       "      <td>1404.000</td>\n",
       "    </tr>\n",
       "    <tr>\n",
       "      <th>smoothness</th>\n",
       "      <td>91.0</td>\n",
       "      <td>0.101220</td>\n",
       "      <td>0.012536</td>\n",
       "      <td>0.074</td>\n",
       "      <td>0.0920</td>\n",
       "      <td>0.099</td>\n",
       "      <td>0.1090</td>\n",
       "      <td>0.129</td>\n",
       "    </tr>\n",
       "    <tr>\n",
       "      <th>compactness</th>\n",
       "      <td>91.0</td>\n",
       "      <td>0.118923</td>\n",
       "      <td>0.051021</td>\n",
       "      <td>0.038</td>\n",
       "      <td>0.0775</td>\n",
       "      <td>0.110</td>\n",
       "      <td>0.1530</td>\n",
       "      <td>0.246</td>\n",
       "    </tr>\n",
       "    <tr>\n",
       "      <th>symmetry</th>\n",
       "      <td>91.0</td>\n",
       "      <td>0.189132</td>\n",
       "      <td>0.025098</td>\n",
       "      <td>0.135</td>\n",
       "      <td>0.1720</td>\n",
       "      <td>0.189</td>\n",
       "      <td>0.2075</td>\n",
       "      <td>0.252</td>\n",
       "    </tr>\n",
       "    <tr>\n",
       "      <th>fractal_dimension</th>\n",
       "      <td>91.0</td>\n",
       "      <td>0.063670</td>\n",
       "      <td>0.006758</td>\n",
       "      <td>0.053</td>\n",
       "      <td>0.0590</td>\n",
       "      <td>0.063</td>\n",
       "      <td>0.0680</td>\n",
       "      <td>0.082</td>\n",
       "    </tr>\n",
       "  </tbody>\n",
       "</table>\n",
       "</div>"
      ],
      "text/plain": [
       "                   count        mean         std      min       25%      50%  \\\n",
       "id                  91.0   51.835165   28.104276    3.000   28.5000   51.000   \n",
       "diagnosis_result    91.0    0.615385    0.489200    0.000    0.0000    1.000   \n",
       "radius              91.0   17.153846    4.786377    9.000   12.0000   18.000   \n",
       "texture             91.0   18.230769    5.217656   11.000   14.0000   17.000   \n",
       "perimeter           91.0   94.780220   20.648273   52.000   83.0000   94.000   \n",
       "area                91.0  678.384615  280.429186  202.000  488.0000  633.000   \n",
       "smoothness          91.0    0.101220    0.012536    0.074    0.0920    0.099   \n",
       "compactness         91.0    0.118923    0.051021    0.038    0.0775    0.110   \n",
       "symmetry            91.0    0.189132    0.025098    0.135    0.1720    0.189   \n",
       "fractal_dimension   91.0    0.063670    0.006758    0.053    0.0590    0.063   \n",
       "\n",
       "                        75%       max  \n",
       "id                  75.5000   100.000  \n",
       "diagnosis_result     1.0000     1.000  \n",
       "radius              21.0000    25.000  \n",
       "texture             22.5000    27.000  \n",
       "perimeter          109.0000   137.000  \n",
       "area               844.0000  1404.000  \n",
       "smoothness           0.1090     0.129  \n",
       "compactness          0.1530     0.246  \n",
       "symmetry             0.2075     0.252  \n",
       "fractal_dimension    0.0680     0.082  "
      ]
     },
     "execution_count": 526,
     "metadata": {},
     "output_type": "execute_result"
    }
   ],
   "source": [
    "df.describe().T"
   ]
  },
  {
   "cell_type": "markdown",
   "metadata": {},
   "source": [
    "We can see almost all the outliers are deleted"
   ]
  },
  {
   "cell_type": "markdown",
   "metadata": {},
   "source": [
    "check if there is any column with only on unique value"
   ]
  },
  {
   "cell_type": "code",
   "execution_count": 527,
   "metadata": {},
   "outputs": [],
   "source": [
    "for i in df.columns:\n",
    "    if len(df[i].value_counts())==1:\n",
    "        print(i)"
   ]
  },
  {
   "cell_type": "markdown",
   "metadata": {},
   "source": [
    "We dont have any column with unique value"
   ]
  },
  {
   "cell_type": "code",
   "execution_count": 528,
   "metadata": {},
   "outputs": [
    {
     "data": {
      "image/png": "[encoded data removed]",
      "text/plain": [
       "<Figure size 432x288 with 2 Axes>"
      ]
     },
     "metadata": {
      "needs_background": "light"
     },
     "output_type": "display_data"
    }
   ],
   "source": [
    "col=df.iloc[:,1:].corr()\n",
    "sns.heatmap(col, cmap=\"YlGnBu\", annot=True)\n",
    "plt.show()"
   ]
  },
  {
   "cell_type": "markdown",
   "metadata": {},
   "source": [
    "We can see that area and perimeter are highly correlated with each other. let us drop are from the dataset"
   ]
  },
  {
   "cell_type": "code",
   "execution_count": 529,
   "metadata": {},
   "outputs": [],
   "source": [
    "df.drop('perimeter',axis=1,inplace = True)"
   ]
  },
  {
   "cell_type": "code",
   "execution_count": 530,
   "metadata": {},
   "outputs": [
    {
     "data": {
      "image/png": "[encoded data removed]",
      "text/plain": [
       "<Figure size 432x288 with 2 Axes>"
      ]
     },
     "metadata": {
      "needs_background": "light"
     },
     "output_type": "display_data"
    }
   ],
   "source": [
    "col=df.iloc[:,1:].corr()\n",
    "sns.heatmap(col, cmap=\"YlGnBu\", annot=True)\n",
    "plt.show()"
   ]
  },
  {
   "cell_type": "code",
   "execution_count": 531,
   "metadata": {},
   "outputs": [
    {
     "data": {
      "text/html": [
       "<div>\n",
       "<style scoped>\n",
       "    .dataframe tbody tr th:only-of-type {\n",
       "        vertical-align: middle;\n",
       "    }\n",
       "\n",
       "    .dataframe tbody tr th {\n",
       "        vertical-align: top;\n",
       "    }\n",
       "\n",
       "    .dataframe thead th {\n",
       "        text-align: right;\n",
       "    }\n",
       "</style>\n",
       "<table border=\"1\" class=\"dataframe\">\n",
       "  <thead>\n",
       "    <tr style=\"text-align: right;\">\n",
       "      <th></th>\n",
       "      <th>id</th>\n",
       "      <th>diagnosis_result</th>\n",
       "      <th>radius</th>\n",
       "      <th>texture</th>\n",
       "      <th>area</th>\n",
       "      <th>smoothness</th>\n",
       "      <th>compactness</th>\n",
       "      <th>symmetry</th>\n",
       "      <th>fractal_dimension</th>\n",
       "    </tr>\n",
       "  </thead>\n",
       "  <tbody>\n",
       "    <tr>\n",
       "      <th>2</th>\n",
       "      <td>3</td>\n",
       "      <td>1</td>\n",
       "      <td>21</td>\n",
       "      <td>27</td>\n",
       "      <td>1203</td>\n",
       "      <td>0.125</td>\n",
       "      <td>0.160</td>\n",
       "      <td>0.207</td>\n",
       "      <td>0.060</td>\n",
       "    </tr>\n",
       "    <tr>\n",
       "      <th>5</th>\n",
       "      <td>6</td>\n",
       "      <td>0</td>\n",
       "      <td>25</td>\n",
       "      <td>25</td>\n",
       "      <td>477</td>\n",
       "      <td>0.128</td>\n",
       "      <td>0.170</td>\n",
       "      <td>0.209</td>\n",
       "      <td>0.076</td>\n",
       "    </tr>\n",
       "    <tr>\n",
       "      <th>6</th>\n",
       "      <td>7</td>\n",
       "      <td>1</td>\n",
       "      <td>16</td>\n",
       "      <td>26</td>\n",
       "      <td>1040</td>\n",
       "      <td>0.095</td>\n",
       "      <td>0.109</td>\n",
       "      <td>0.179</td>\n",
       "      <td>0.057</td>\n",
       "    </tr>\n",
       "    <tr>\n",
       "      <th>7</th>\n",
       "      <td>8</td>\n",
       "      <td>1</td>\n",
       "      <td>15</td>\n",
       "      <td>18</td>\n",
       "      <td>578</td>\n",
       "      <td>0.119</td>\n",
       "      <td>0.165</td>\n",
       "      <td>0.220</td>\n",
       "      <td>0.075</td>\n",
       "    </tr>\n",
       "    <tr>\n",
       "      <th>8</th>\n",
       "      <td>9</td>\n",
       "      <td>1</td>\n",
       "      <td>19</td>\n",
       "      <td>24</td>\n",
       "      <td>520</td>\n",
       "      <td>0.127</td>\n",
       "      <td>0.193</td>\n",
       "      <td>0.235</td>\n",
       "      <td>0.074</td>\n",
       "    </tr>\n",
       "  </tbody>\n",
       "</table>\n",
       "</div>"
      ],
      "text/plain": [
       "   id  diagnosis_result  radius  texture  area  smoothness  compactness  \\\n",
       "2   3                 1      21       27  1203       0.125        0.160   \n",
       "5   6                 0      25       25   477       0.128        0.170   \n",
       "6   7                 1      16       26  1040       0.095        0.109   \n",
       "7   8                 1      15       18   578       0.119        0.165   \n",
       "8   9                 1      19       24   520       0.127        0.193   \n",
       "\n",
       "   symmetry  fractal_dimension  \n",
       "2     0.207              0.060  \n",
       "5     0.209              0.076  \n",
       "6     0.179              0.057  \n",
       "7     0.220              0.075  \n",
       "8     0.235              0.074  "
      ]
     },
     "execution_count": 531,
     "metadata": {},
     "output_type": "execute_result"
    }
   ],
   "source": [
    "df.head()"
   ]
  },
  {
   "cell_type": "markdown",
   "metadata": {},
   "source": [
    "Let us drop the id column"
   ]
  },
  {
   "cell_type": "code",
   "execution_count": 532,
   "metadata": {},
   "outputs": [],
   "source": [
    "df1 = df.iloc[:,1:]"
   ]
  },
  {
   "cell_type": "code",
   "execution_count": 533,
   "metadata": {},
   "outputs": [],
   "source": [
    "from sklearn.model_selection import train_test_split"
   ]
  },
  {
   "cell_type": "code",
   "execution_count": 534,
   "metadata": {},
   "outputs": [],
   "source": [
    "# Putting feature variable to X\n",
    "X = df1.drop(['diagnosis_result'], axis=1)\n",
    "# Putting response variable to y\n",
    "y = df1['diagnosis_result']"
   ]
  },
  {
   "cell_type": "code",
   "execution_count": 535,
   "metadata": {},
   "outputs": [],
   "source": [
    "# Splitting the data into train and test\n",
    "X_train, X_test, y_train, y_test = train_test_split(X, y, train_size=0.7, test_size=0.3, random_state=100)"
   ]
  },
  {
   "cell_type": "markdown",
   "metadata": {},
   "source": [
    "#### Scale the feature"
   ]
  },
  {
   "cell_type": "code",
   "execution_count": 536,
   "metadata": {},
   "outputs": [],
   "source": [
    "from sklearn.preprocessing import StandardScaler"
   ]
  },
  {
   "cell_type": "code",
   "execution_count": 537,
   "metadata": {},
   "outputs": [
    {
     "name": "stderr",
     "output_type": "stream",
     "text": [
      "C:\\Users\\91973\\Anaconda3\\lib\\site-packages\\ipykernel_launcher.py:3: SettingWithCopyWarning: \n",
      "A value is trying to be set on a copy of a slice from a DataFrame.\n",
      "Try using .loc[row_indexer,col_indexer] = value instead\n",
      "\n",
      "See the caveats in the documentation: http://pandas.pydata.org/pandas-docs/stable/indexing.html#indexing-view-versus-copy\n",
      "  This is separate from the ipykernel package so we can avoid doing imports until\n",
      "C:\\Users\\91973\\Anaconda3\\lib\\site-packages\\pandas\\core\\indexing.py:543: SettingWithCopyWarning: \n",
      "A value is trying to be set on a copy of a slice from a DataFrame.\n",
      "Try using .loc[row_indexer,col_indexer] = value instead\n",
      "\n",
      "See the caveats in the documentation: http://pandas.pydata.org/pandas-docs/stable/indexing.html#indexing-view-versus-copy\n",
      "  self.obj[item] = s\n"
     ]
    },
    {
     "data": {
      "text/html": [
       "<div>\n",
       "<style scoped>\n",
       "    .dataframe tbody tr th:only-of-type {\n",
       "        vertical-align: middle;\n",
       "    }\n",
       "\n",
       "    .dataframe tbody tr th {\n",
       "        vertical-align: top;\n",
       "    }\n",
       "\n",
       "    .dataframe thead th {\n",
       "        text-align: right;\n",
       "    }\n",
       "</style>\n",
       "<table border=\"1\" class=\"dataframe\">\n",
       "  <thead>\n",
       "    <tr style=\"text-align: right;\">\n",
       "      <th></th>\n",
       "      <th>radius</th>\n",
       "      <th>texture</th>\n",
       "      <th>area</th>\n",
       "      <th>smoothness</th>\n",
       "      <th>compactness</th>\n",
       "      <th>symmetry</th>\n",
       "      <th>fractal_dimension</th>\n",
       "    </tr>\n",
       "  </thead>\n",
       "  <tbody>\n",
       "    <tr>\n",
       "      <th>47</th>\n",
       "      <td>0.694718</td>\n",
       "      <td>-0.862800</td>\n",
       "      <td>-0.468663</td>\n",
       "      <td>1.227153</td>\n",
       "      <td>0.185346</td>\n",
       "      <td>1.094998</td>\n",
       "      <td>0.680186</td>\n",
       "    </tr>\n",
       "    <tr>\n",
       "      <th>85</th>\n",
       "      <td>-0.624897</td>\n",
       "      <td>-1.056239</td>\n",
       "      <td>1.411738</td>\n",
       "      <td>-0.180000</td>\n",
       "      <td>-0.184043</td>\n",
       "      <td>1.094998</td>\n",
       "      <td>-0.531170</td>\n",
       "    </tr>\n",
       "    <tr>\n",
       "      <th>26</th>\n",
       "      <td>-1.504640</td>\n",
       "      <td>1.071591</td>\n",
       "      <td>-0.085618</td>\n",
       "      <td>0.316642</td>\n",
       "      <td>1.498725</td>\n",
       "      <td>1.589513</td>\n",
       "      <td>0.831606</td>\n",
       "    </tr>\n",
       "    <tr>\n",
       "      <th>91</th>\n",
       "      <td>-1.504640</td>\n",
       "      <td>-1.249678</td>\n",
       "      <td>0.203406</td>\n",
       "      <td>-0.759416</td>\n",
       "      <td>-0.204564</td>\n",
       "      <td>-0.594596</td>\n",
       "      <td>-0.379751</td>\n",
       "    </tr>\n",
       "    <tr>\n",
       "      <th>38</th>\n",
       "      <td>-1.284704</td>\n",
       "      <td>-0.669361</td>\n",
       "      <td>0.102422</td>\n",
       "      <td>-0.593869</td>\n",
       "      <td>-1.292207</td>\n",
       "      <td>-1.212740</td>\n",
       "      <td>-1.288268</td>\n",
       "    </tr>\n",
       "  </tbody>\n",
       "</table>\n",
       "</div>"
      ],
      "text/plain": [
       "      radius   texture      area  smoothness  compactness  symmetry  \\\n",
       "47  0.694718 -0.862800 -0.468663    1.227153     0.185346  1.094998   \n",
       "85 -0.624897 -1.056239  1.411738   -0.180000    -0.184043  1.094998   \n",
       "26 -1.504640  1.071591 -0.085618    0.316642     1.498725  1.589513   \n",
       "91 -1.504640 -1.249678  0.203406   -0.759416    -0.204564 -0.594596   \n",
       "38 -1.284704 -0.669361  0.102422   -0.593869    -1.292207 -1.212740   \n",
       "\n",
       "    fractal_dimension  \n",
       "47           0.680186  \n",
       "85          -0.531170  \n",
       "26           0.831606  \n",
       "91          -0.379751  \n",
       "38          -1.288268  "
      ]
     },
     "execution_count": 537,
     "metadata": {},
     "output_type": "execute_result"
    }
   ],
   "source": [
    "scaler = StandardScaler()\n",
    "a = list(X_train.columns)\n",
    "X_train[a]= scaler.fit_transform(X_train[a])\n",
    "X_train.head()"
   ]
  },
  {
   "cell_type": "code",
   "execution_count": 538,
   "metadata": {},
   "outputs": [],
   "source": [
    "from sklearn.neighbors import KNeighborsClassifier"
   ]
  },
  {
   "cell_type": "code",
   "execution_count": 539,
   "metadata": {},
   "outputs": [
    {
     "name": "stderr",
     "output_type": "stream",
     "text": [
      "C:\\Users\\91973\\Anaconda3\\lib\\site-packages\\ipykernel_launcher.py:1: SettingWithCopyWarning: \n",
      "A value is trying to be set on a copy of a slice from a DataFrame.\n",
      "Try using .loc[row_indexer,col_indexer] = value instead\n",
      "\n",
      "See the caveats in the documentation: http://pandas.pydata.org/pandas-docs/stable/indexing.html#indexing-view-versus-copy\n",
      "  \"\"\"Entry point for launching an IPython kernel.\n",
      "C:\\Users\\91973\\Anaconda3\\lib\\site-packages\\pandas\\core\\indexing.py:543: SettingWithCopyWarning: \n",
      "A value is trying to be set on a copy of a slice from a DataFrame.\n",
      "Try using .loc[row_indexer,col_indexer] = value instead\n",
      "\n",
      "See the caveats in the documentation: http://pandas.pydata.org/pandas-docs/stable/indexing.html#indexing-view-versus-copy\n",
      "  self.obj[item] = s\n"
     ]
    }
   ],
   "source": [
    "X_test[a] = scaler.transform(X_test[a])"
   ]
  },
  {
   "cell_type": "code",
   "execution_count": 540,
   "metadata": {},
   "outputs": [
    {
     "data": {
      "text/html": [
       "<div>\n",
       "<style scoped>\n",
       "    .dataframe tbody tr th:only-of-type {\n",
       "        vertical-align: middle;\n",
       "    }\n",
       "\n",
       "    .dataframe tbody tr th {\n",
       "        vertical-align: top;\n",
       "    }\n",
       "\n",
       "    .dataframe thead th {\n",
       "        text-align: right;\n",
       "    }\n",
       "</style>\n",
       "<table border=\"1\" class=\"dataframe\">\n",
       "  <thead>\n",
       "    <tr style=\"text-align: right;\">\n",
       "      <th></th>\n",
       "      <th>radius</th>\n",
       "      <th>texture</th>\n",
       "      <th>area</th>\n",
       "      <th>smoothness</th>\n",
       "      <th>compactness</th>\n",
       "      <th>symmetry</th>\n",
       "      <th>fractal_dimension</th>\n",
       "    </tr>\n",
       "  </thead>\n",
       "  <tbody>\n",
       "    <tr>\n",
       "      <th>63</th>\n",
       "      <td>1.574461</td>\n",
       "      <td>-0.282482</td>\n",
       "      <td>-1.422793</td>\n",
       "      <td>-2.001022</td>\n",
       "      <td>-0.532909</td>\n",
       "      <td>1.960399</td>\n",
       "      <td>0.983025</td>\n",
       "    </tr>\n",
       "    <tr>\n",
       "      <th>67</th>\n",
       "      <td>0.254846</td>\n",
       "      <td>-1.249678</td>\n",
       "      <td>-0.959657</td>\n",
       "      <td>-1.669927</td>\n",
       "      <td>-1.374293</td>\n",
       "      <td>-1.418788</td>\n",
       "      <td>-0.985429</td>\n",
       "    </tr>\n",
       "    <tr>\n",
       "      <th>31</th>\n",
       "      <td>1.354525</td>\n",
       "      <td>1.458469</td>\n",
       "      <td>-0.795992</td>\n",
       "      <td>0.813285</td>\n",
       "      <td>0.780471</td>\n",
       "      <td>1.795561</td>\n",
       "      <td>2.194382</td>\n",
       "    </tr>\n",
       "    <tr>\n",
       "      <th>34</th>\n",
       "      <td>-0.185025</td>\n",
       "      <td>0.878152</td>\n",
       "      <td>0.478502</td>\n",
       "      <td>0.233869</td>\n",
       "      <td>0.862557</td>\n",
       "      <td>0.559273</td>\n",
       "      <td>0.225928</td>\n",
       "    </tr>\n",
       "    <tr>\n",
       "      <th>48</th>\n",
       "      <td>0.694718</td>\n",
       "      <td>0.491274</td>\n",
       "      <td>-0.768134</td>\n",
       "      <td>0.151095</td>\n",
       "      <td>-0.471344</td>\n",
       "      <td>-0.759434</td>\n",
       "      <td>-0.531170</td>\n",
       "    </tr>\n",
       "  </tbody>\n",
       "</table>\n",
       "</div>"
      ],
      "text/plain": [
       "      radius   texture      area  smoothness  compactness  symmetry  \\\n",
       "63  1.574461 -0.282482 -1.422793   -2.001022    -0.532909  1.960399   \n",
       "67  0.254846 -1.249678 -0.959657   -1.669927    -1.374293 -1.418788   \n",
       "31  1.354525  1.458469 -0.795992    0.813285     0.780471  1.795561   \n",
       "34 -0.185025  0.878152  0.478502    0.233869     0.862557  0.559273   \n",
       "48  0.694718  0.491274 -0.768134    0.151095    -0.471344 -0.759434   \n",
       "\n",
       "    fractal_dimension  \n",
       "63           0.983025  \n",
       "67          -0.985429  \n",
       "31           2.194382  \n",
       "34           0.225928  \n",
       "48          -0.531170  "
      ]
     },
     "execution_count": 540,
     "metadata": {},
     "output_type": "execute_result"
    }
   ],
   "source": [
    "X_test.head()"
   ]
  },
  {
   "cell_type": "code",
   "execution_count": 541,
   "metadata": {},
   "outputs": [
    {
     "data": {
      "text/plain": [
       "<matplotlib.legend.Legend at 0x1b134b547b8>"
      ]
     },
     "execution_count": 541,
     "metadata": {},
     "output_type": "execute_result"
    },
    {
     "data": {
      "image/png": "[encoded data removed]",
      "text/plain": [
       "<Figure size 432x288 with 1 Axes>"
      ]
     },
     "metadata": {
      "needs_background": "light"
     },
     "output_type": "display_data"
    }
   ],
   "source": [
    "k_range = range(1, 11)\n",
    "score1=[]\n",
    "score2=[]\n",
    "for k in k_range:\n",
    "    knn=KNeighborsClassifier(n_neighbors=k)\n",
    "    knn.fit(X_train,y_train)\n",
    "    score1.append(knn.score(X_train,y_train))\n",
    "    score2.append(knn.score(X_test,y_test))\n",
    "    \n",
    "%matplotlib inline\n",
    "plt.plot(k_range,score1,label= 'Accuracy on training set')\n",
    "plt.plot(k_range,score2,label= 'Accuracy on testing set')\n",
    "plt.xlabel('Value of K in KNN')\n",
    "plt.ylabel('Accuracy')\n",
    "plt.legend()"
   ]
  },
  {
   "cell_type": "markdown",
   "metadata": {},
   "source": [
    "We can see that best k is 5"
   ]
  },
  {
   "cell_type": "code",
   "execution_count": 542,
   "metadata": {},
   "outputs": [],
   "source": [
    "knn=KNeighborsClassifier(n_neighbors=5)"
   ]
  },
  {
   "cell_type": "code",
   "execution_count": 543,
   "metadata": {},
   "outputs": [
    {
     "data": {
      "text/plain": [
       "KNeighborsClassifier(algorithm='auto', leaf_size=30, metric='minkowski',\n",
       "                     metric_params=None, n_jobs=None, n_neighbors=5, p=2,\n",
       "                     weights='uniform')"
      ]
     },
     "execution_count": 543,
     "metadata": {},
     "output_type": "execute_result"
    }
   ],
   "source": [
    "knn.fit(X_train,y_train)"
   ]
  },
  {
   "cell_type": "code",
   "execution_count": 544,
   "metadata": {},
   "outputs": [],
   "source": [
    "pred = knn.predict(X_test)"
   ]
  },
  {
   "cell_type": "markdown",
   "metadata": {},
   "source": [
    "#### Predictions and Evaluations¶"
   ]
  },
  {
   "cell_type": "code",
   "execution_count": 545,
   "metadata": {},
   "outputs": [],
   "source": [
    "from sklearn.metrics import classification_report,confusion_matrix\n",
    "from sklearn.model_selection import cross_val_score"
   ]
  },
  {
   "cell_type": "code",
   "execution_count": 546,
   "metadata": {},
   "outputs": [
    {
     "name": "stdout",
     "output_type": "stream",
     "text": [
      "[[ 6  2]\n",
      " [ 1 19]]\n"
     ]
    }
   ],
   "source": [
    "print(confusion_matrix(y_test,pred))"
   ]
  },
  {
   "cell_type": "code",
   "execution_count": 547,
   "metadata": {},
   "outputs": [
    {
     "name": "stdout",
     "output_type": "stream",
     "text": [
      "              precision    recall  f1-score   support\n",
      "\n",
      "           0       0.86      0.75      0.80         8\n",
      "           1       0.90      0.95      0.93        20\n",
      "\n",
      "    accuracy                           0.89        28\n",
      "   macro avg       0.88      0.85      0.86        28\n",
      "weighted avg       0.89      0.89      0.89        28\n",
      "\n"
     ]
    }
   ],
   "source": [
    "print(classification_report(y_test,pred))"
   ]
  },
  {
   "cell_type": "code",
   "execution_count": null,
   "metadata": {},
   "outputs": [],
   "source": []
  }
 ],
 "metadata": {
  "kernelspec": {
   "display_name": "Python 3",
   "language": "python",
   "name": "python3"
  },
  "language_info": {
   "codemirror_mode": {
    "name": "ipython",
    "version": 3
   },
   "file_extension": ".py",
   "mimetype": "text/x-python",
   "name": "python",
   "nbconvert_exporter": "python",
   "pygments_lexer": "ipython3",
   "version": "3.7.3"
  }
 },
 "nbformat": 4,
 "nbformat_minor": 2
}
